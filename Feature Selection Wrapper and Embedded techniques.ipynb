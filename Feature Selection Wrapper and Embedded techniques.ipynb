{
 "cells": [
  {
   "cell_type": "markdown",
   "id": "690c95b7",
   "metadata": {},
   "source": [
    "# Feature Selection Wrapper and Embedded techniques:"
   ]
  },
  {
   "cell_type": "markdown",
   "id": "8342f286",
   "metadata": {},
   "source": [
    "# 1:Wrapper Technique:"
   ]
  },
  {
   "cell_type": "code",
   "execution_count": 1,
   "id": "f9b03dcb",
   "metadata": {},
   "outputs": [],
   "source": [
    "from mlxtend.feature_selection import SequentialFeatureSelector as SFS"
   ]
  },
  {
   "cell_type": "code",
   "execution_count": 2,
   "id": "83e7420e",
   "metadata": {},
   "outputs": [],
   "source": [
    "from sklearn.neighbors import KNeighborsClassifier\n",
    "from sklearn.datasets import load_iris \n",
    "iris=load_iris()\n",
    "x=iris.data\n",
    "y=iris.target\n",
    "knn=KNeighborsClassifier(n_neighbors=4)"
   ]
  },
  {
   "cell_type": "code",
   "execution_count": 3,
   "id": "1fb0b246",
   "metadata": {},
   "outputs": [],
   "source": [
    "sfs=SFS(knn,\n",
    "       k_features=2,\n",
    "       forward=False,#(Backward)\n",
    "        #forward=True,#(forward)\n",
    "      floating=False,\n",
    "       scoring='accuracy',\n",
    "       cv=0,n_jobs=-1)\n",
    "feature_names=('sepal length','sepal width','petal length','petal width')\n",
    "sfs=sfs.fit(x,y,custom_feature_names=feature_names)"
   ]
  },
  {
   "cell_type": "code",
   "execution_count": 4,
   "id": "61c11de0",
   "metadata": {},
   "outputs": [
    {
     "data": {
      "text/html": [
       "<div>\n",
       "<style scoped>\n",
       "    .dataframe tbody tr th:only-of-type {\n",
       "        vertical-align: middle;\n",
       "    }\n",
       "\n",
       "    .dataframe tbody tr th {\n",
       "        vertical-align: top;\n",
       "    }\n",
       "\n",
       "    .dataframe thead th {\n",
       "        text-align: right;\n",
       "    }\n",
       "</style>\n",
       "<table border=\"1\" class=\"dataframe\">\n",
       "  <thead>\n",
       "    <tr style=\"text-align: right;\">\n",
       "      <th></th>\n",
       "      <th>feature_idx</th>\n",
       "      <th>cv_scores</th>\n",
       "      <th>avg_score</th>\n",
       "      <th>feature_names</th>\n",
       "      <th>ci_bound</th>\n",
       "      <th>std_dev</th>\n",
       "      <th>std_err</th>\n",
       "    </tr>\n",
       "  </thead>\n",
       "  <tbody>\n",
       "    <tr>\n",
       "      <th>4</th>\n",
       "      <td>(0, 1, 2, 3)</td>\n",
       "      <td>[0.96]</td>\n",
       "      <td>0.96</td>\n",
       "      <td>(sepal length, sepal width, petal length, peta...</td>\n",
       "      <td>NaN</td>\n",
       "      <td>0.0</td>\n",
       "      <td>NaN</td>\n",
       "    </tr>\n",
       "    <tr>\n",
       "      <th>3</th>\n",
       "      <td>(1, 2, 3)</td>\n",
       "      <td>[0.9733333333333334]</td>\n",
       "      <td>0.973333</td>\n",
       "      <td>(sepal width, petal length, petal width)</td>\n",
       "      <td>NaN</td>\n",
       "      <td>0.0</td>\n",
       "      <td>NaN</td>\n",
       "    </tr>\n",
       "    <tr>\n",
       "      <th>2</th>\n",
       "      <td>(2, 3)</td>\n",
       "      <td>[0.9733333333333334]</td>\n",
       "      <td>0.973333</td>\n",
       "      <td>(petal length, petal width)</td>\n",
       "      <td>NaN</td>\n",
       "      <td>0.0</td>\n",
       "      <td>NaN</td>\n",
       "    </tr>\n",
       "  </tbody>\n",
       "</table>\n",
       "</div>"
      ],
      "text/plain": [
       "    feature_idx             cv_scores avg_score  \\\n",
       "4  (0, 1, 2, 3)                [0.96]      0.96   \n",
       "3     (1, 2, 3)  [0.9733333333333334]  0.973333   \n",
       "2        (2, 3)  [0.9733333333333334]  0.973333   \n",
       "\n",
       "                                       feature_names ci_bound std_dev std_err  \n",
       "4  (sepal length, sepal width, petal length, peta...      NaN     0.0     NaN  \n",
       "3           (sepal width, petal length, petal width)      NaN     0.0     NaN  \n",
       "2                        (petal length, petal width)      NaN     0.0     NaN  "
      ]
     },
     "execution_count": 4,
     "metadata": {},
     "output_type": "execute_result"
    }
   ],
   "source": [
    "import numpy as np\n",
    "import pandas as pd\n",
    "import warnings \n",
    "warnings.filterwarnings('ignore')\n",
    "pd.DataFrame.from_dict(sfs.get_metric_dict()).T"
   ]
  },
  {
   "cell_type": "markdown",
   "id": "70ee0f8e",
   "metadata": {},
   "source": [
    "# Recursive Feature Elimination:"
   ]
  },
  {
   "cell_type": "code",
   "execution_count": 5,
   "id": "b2dd6f05",
   "metadata": {},
   "outputs": [],
   "source": [
    "import pandas as pd\n",
    "import numpy as np\n",
    "import matplotlib.pyplot as plt\n",
    "import seaborn as sns\n",
    "%matplotlib inline\n",
    "from sklearn import datasets\n",
    "from sklearn.model_selection import train_test_split\n",
    "from sklearn.linear_model import LinearRegression"
   ]
  },
  {
   "cell_type": "code",
   "execution_count": 6,
   "id": "428462f9",
   "metadata": {},
   "outputs": [
    {
     "name": "stdout",
     "output_type": "stream",
     "text": [
      "         0     1     2    3      4      5     6       7    8      9    10  \\\n",
      "0  0.00632  18.0  2.31  0.0  0.538  6.575  65.2  4.0900  1.0  296.0  15.3   \n",
      "1  0.02731   0.0  7.07  0.0  0.469  6.421  78.9  4.9671  2.0  242.0  17.8   \n",
      "2  0.02729   0.0  7.07  0.0  0.469  7.185  61.1  4.9671  2.0  242.0  17.8   \n",
      "3  0.03237   0.0  2.18  0.0  0.458  6.998  45.8  6.0622  3.0  222.0  18.7   \n",
      "4  0.06905   0.0  2.18  0.0  0.458  7.147  54.2  6.0622  3.0  222.0  18.7   \n",
      "\n",
      "       11    12  price  \n",
      "0  396.90  4.98   24.0  \n",
      "1  396.90  9.14   21.6  \n",
      "2  392.83  4.03   34.7  \n",
      "3  394.63  2.94   33.4  \n",
      "4  396.90  5.33   36.2  \n",
      "Num of features: 6\n",
      "Selected features:[False False False  True  True  True False  True False False  True False\n",
      "  True]\n",
      "Feature Ranking :[3 5 4 1 1 1 8 1 2 6 1 7 1]\n"
     ]
    }
   ],
   "source": [
    "# loading dataset:\n",
    "\n",
    "boston_dataset=datasets.load_boston()\n",
    "\n",
    "#Load the data set into Pandas Dataframe:\n",
    "\n",
    "boston_pd=pd.DataFrame(boston_dataset.data)\n",
    "boston_pd_columns=boston_dataset.feature_names\n",
    "boston_pd_target=np.array(boston_dataset.target)\n",
    "boston_pd['price']=pd.Series(boston_pd_target)\n",
    "\n",
    "x=boston_pd.iloc[:,:-1]\n",
    "y=boston_pd.iloc[:,-1]\n",
    "\n",
    "#training and testing:\n",
    "\n",
    "x_train,x_test,y_train,y_test=train_test_split(boston_pd.iloc[:,:-1],boston_pd.iloc[:,-1],test_size=0.20,random_state=0)\n",
    "print(boston_pd.head())\n",
    "\n",
    "\n",
    "from sklearn.feature_selection import RFE\n",
    "from sklearn.feature_selection import RFECV\n",
    "\n",
    "lin_reg=LinearRegression()\n",
    "\n",
    "rfe_mod=RFE(lin_reg)\n",
    "myvalues=rfe_mod.fit(x,y)\n",
    "myvalues.support_\n",
    "myvalues.ranking_\n",
    "\n",
    "\n",
    "print(\"Num of features: %s\"%(myvalues.n_features_))\n",
    "print(\"Selected features:%s\"%(myvalues.support_))\n",
    "print(\"Feature Ranking :%s\"%(myvalues.ranking_))"
   ]
  },
  {
   "cell_type": "markdown",
   "id": "db904315",
   "metadata": {},
   "source": [
    "Here Num of features: 6\n",
    "\n",
    "All \"1\" Feature Ranking will consider not to Eliminate"
   ]
  },
  {
   "cell_type": "markdown",
   "id": "9a2f045c",
   "metadata": {},
   "source": [
    "# Embedded methods:"
   ]
  },
  {
   "cell_type": "markdown",
   "id": "36c3aefb",
   "metadata": {},
   "source": [
    "Using models to select features:"
   ]
  },
  {
   "cell_type": "code",
   "execution_count": 8,
   "id": "a06011f6",
   "metadata": {
    "scrolled": true
   },
   "outputs": [
    {
     "name": "stdout",
     "output_type": "stream",
     "text": [
      "MSE on test set 41.700096799949\n",
      "   Columns  Coefficient Estimate\n",
      "0        0             -0.058890\n",
      "1        1              0.053177\n",
      "2        2             -0.000000\n",
      "3        3              0.000000\n",
      "4        4             -0.000000\n",
      "5        5              0.679550\n",
      "6        6              0.016841\n",
      "7        7             -0.648766\n",
      "8        8              0.198738\n",
      "9        9             -0.013994\n",
      "10      10             -0.864220\n",
      "11      11              0.006603\n",
      "12      12             -0.731210\n"
     ]
    }
   ],
   "source": [
    "from sklearn.linear_model import Lasso\n",
    " \n",
    "\n",
    "lasso = Lasso(alpha = 1)\n",
    "lasso.fit(x_train, y_train)\n",
    "y_pred1 = lasso.predict(x_test)\n",
    " \n",
    "\n",
    "mean_squared_error = np.mean((y_pred1 - y_test)**2)\n",
    "print(\"MSE on test set\", mean_squared_error)\n",
    "lasso_coeff = pd.DataFrame()\n",
    "lasso_coeff[\"Columns\"] = x_train.columns\n",
    "lasso_coeff['Coefficient Estimate'] = pd.Series(lasso.coef_)\n",
    " \n",
    "print(lasso_coeff)"
   ]
  },
  {
   "cell_type": "markdown",
   "id": "e074fd18",
   "metadata": {},
   "source": [
    "Here we can observe the low Coefficient value \"3\" we can drop that feature."
   ]
  },
  {
   "cell_type": "markdown",
   "id": "3acf2b3d",
   "metadata": {},
   "source": [
    "# Using Random Forest to Select features:"
   ]
  },
  {
   "cell_type": "code",
   "execution_count": 9,
   "id": "86b64f8b",
   "metadata": {},
   "outputs": [],
   "source": [
    "from sklearn.ensemble import RandomForestRegressor\n",
    "rf = RandomForestRegressor(n_estimators = 100,random_state=42)\n",
    "rf.fit(x_train, y_train)\n",
    "importances = rf.feature_importances_"
   ]
  },
  {
   "cell_type": "code",
   "execution_count": 10,
   "id": "70c45484",
   "metadata": {},
   "outputs": [
    {
     "data": {
      "image/png": "[encoded data removed]",
      "text/plain": [
       "<Figure size 432x288 with 1 Axes>"
      ]
     },
     "metadata": {
      "needs_background": "light"
     },
     "output_type": "display_data"
    }
   ],
   "source": [
    "forest_importances = pd.Series(importances, index=x_train.columns)\n",
    "\n",
    "fig, ax = plt.subplots()\n",
    "forest_importances.plot.bar()\n",
    "ax.set_title(\"Feature importances\")\n",
    "ax.set_ylabel(\"Mean decrease in impurity\")\n",
    "fig.tight_layout()"
   ]
  },
  {
   "cell_type": "markdown",
   "id": "77094f37",
   "metadata": {},
   "source": [
    "Here low Bar lines we can drop the features."
   ]
  },
  {
   "cell_type": "code",
   "execution_count": null,
   "id": "b0fee715",
   "metadata": {},
   "outputs": [],
   "source": []
  }
 ],
 "metadata": {
  "kernelspec": {
   "display_name": "Python 3 (ipykernel)",
   "language": "python",
   "name": "python3"
  },
  "language_info": {
   "codemirror_mode": {
    "name": "ipython",
    "version": 3
   },
   "file_extension": ".py",
   "mimetype": "text/x-python",
   "name": "python",
   "nbconvert_exporter": "python",
   "pygments_lexer": "ipython3",
   "version": "3.9.7"
  }
 },
 "nbformat": 4,
 "nbformat_minor": 5
}
